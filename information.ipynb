{
 "cells": [
  {
   "cell_type": "code",
   "execution_count": null,
   "metadata": {},
   "outputs": [
    {
     "name": "stderr",
     "output_type": "stream",
     "text": [
      "C:\\Users\\Administrator\\AppData\\Local\\Temp\\ipykernel_21832\\3295695907.py:9: RuntimeWarning: The data contains 'boundary' events, indicating data discontinuities. Be cautious of filtering and epoching around these events.\n",
      "  raw = mne.io.read_raw(data_path, preload=True)\n"
     ]
    },
    {
     "data": {
      "text/plain": [
       "<MNEBrowseFigure size 2560x1494 with 4 Axes>"
      ]
     },
     "execution_count": 6,
     "metadata": {},
     "output_type": "execute_result"
    }
   ],
   "source": [
    "import mne \n",
    "import matplotlib\n",
    "import numpy as np\n",
    "\n",
    "matplotlib.use('Qt5Agg')  # Use Qt5Agg backend for interactive plotting\n",
    "\n",
    "data_path = r'derivatives\\sub-004\\eeg\\sub-004_task-eyesclosed_eeg.set'\n",
    "\n",
    "raw = mne.io.read_raw(data_path, preload=True)\n",
    "\n",
    "raw.plot()\n"
   ]
  },
  {
   "cell_type": "code",
   "execution_count": 7,
   "metadata": {},
   "outputs": [
    {
     "data": {
      "text/plain": [
       "<Figure size 640x640 with 1 Axes>"
      ]
     },
     "execution_count": 7,
     "metadata": {},
     "output_type": "execute_result"
    }
   ],
   "source": [
    "raw.plot_sensors(ch_type='eeg', kind='3d', ch_groups=None, sphere=None, show_names=True)"
   ]
  },
  {
   "cell_type": "code",
   "execution_count": 8,
   "metadata": {},
   "outputs": [
    {
     "name": "stdout",
     "output_type": "stream",
     "text": [
      "Data shape: (19, 353050)\n",
      "Sampling frequency: 500.0 Hz\n",
      "\n",
      "==================================================\n",
      "SIGNAL AMPLITUDE ANALYSIS\n",
      "==================================================\n",
      "Channel 1:\n",
      "  Min: -0.000144 V\n",
      "  Max: 0.000190 V\n",
      "  Mean: -0.000000 V\n",
      "  Std: 0.000033 V\n",
      "  Range: 0.000334 V\n",
      "\n",
      "Channel 2:\n",
      "  Min: -0.000135 V\n",
      "  Max: 0.000169 V\n",
      "  Mean: 0.000000 V\n",
      "  Std: 0.000033 V\n",
      "  Range: 0.000304 V\n",
      "\n",
      "Channel 3:\n",
      "  Min: -0.000134 V\n",
      "  Max: 0.000230 V\n",
      "  Mean: 0.000000 V\n",
      "  Std: 0.000034 V\n",
      "  Range: 0.000365 V\n",
      "\n",
      "Channel 4:\n",
      "  Min: -0.000128 V\n",
      "  Max: 0.000220 V\n",
      "  Mean: 0.000000 V\n",
      "  Std: 0.000033 V\n",
      "  Range: 0.000348 V\n",
      "\n",
      "Channel 5:\n",
      "  Min: -0.000133 V\n",
      "  Max: 0.000132 V\n",
      "  Mean: 0.000000 V\n",
      "  Std: 0.000033 V\n",
      "  Range: 0.000264 V\n",
      "\n",
      "First channel detailed analysis:\n",
      "  Signal length: 353050 samples\n",
      "  Duration: 706.1 seconds\n",
      "  Min: -0.000144 V\n",
      "  Max: 0.000190 V\n",
      "  Mean: -0.000000 V\n",
      "  Std: 0.000033 V\n",
      "  Q25: -0.000022 V\n",
      "  Q75: 0.000022 V\n",
      "  IQR: 0.000044 V\n",
      "\n",
      "Channel info:\n",
      "  Channel names: ['Fp1', 'Fp2', 'F3', 'F4', 'C3']\n",
      "  Channel types: 2 (FIFFV_EEG_CH)\n",
      "==================================================\n"
     ]
    },
    {
     "name": "stdout",
     "output_type": "stream",
     "text": [
      "Channels marked as bad:\n",
      "none\n",
      "Channels marked as bad:\n",
      "none\n"
     ]
    }
   ],
   "source": [
    "data = raw.get_data()        # (n_chans, n_times)\n",
    "sfreq = raw.info['sfreq']    # 500 Hz\n",
    "print(f\"Data shape: {data.shape}\")\n",
    "print(f\"Sampling frequency: {sfreq} Hz\")\n",
    "\n",
    "# Check amplitude range for all channels\n",
    "print(\"\\n\" + \"=\"*50)\n",
    "print(\"SIGNAL AMPLITUDE ANALYSIS\")\n",
    "print(\"=\"*50)\n",
    "\n",
    "for ch in range(min(5, data.shape[0])):  # Only check first 5 channels\n",
    "    signal = data[ch]\n",
    "    min_val = np.min(signal)\n",
    "    max_val = np.max(signal)\n",
    "    mean_val = np.mean(signal)\n",
    "    std_val = np.std(signal)\n",
    "    \n",
    "    print(f\"Channel {ch+1}:\")\n",
    "    print(f\"  Min: {min_val:.6f} V\")\n",
    "    print(f\"  Max: {max_val:.6f} V\")\n",
    "    print(f\"  Mean: {mean_val:.6f} V\")\n",
    "    print(f\"  Std: {std_val:.6f} V\")\n",
    "    print(f\"  Range: {max_val - min_val:.6f} V\")\n",
    "    print()\n",
    "\n",
    "# Detailed analysis of the first channel\n",
    "signal = data[0]\n",
    "print(\"First channel detailed analysis:\")\n",
    "print(f\"  Signal length: {len(signal)} samples\")\n",
    "print(f\"  Duration: {len(signal)/sfreq:.1f} seconds\")\n",
    "print(f\"  Min: {np.min(signal):.6f} V\")\n",
    "print(f\"  Max: {np.max(signal):.6f} V\")\n",
    "print(f\"  Mean: {np.mean(signal):.6f} V\")\n",
    "print(f\"  Std: {np.std(signal):.6f} V\")\n",
    "\n",
    "# Check for outliers\n",
    "q25 = np.percentile(signal, 25)\n",
    "q75 = np.percentile(signal, 75)\n",
    "iqr = q75 - q25\n",
    "print(f\"  Q25: {q25:.6f} V\")\n",
    "print(f\"  Q75: {q75:.6f} V\")\n",
    "print(f\"  IQR: {iqr:.6f} V\")\n",
    "\n",
    "# Check unit information\n",
    "print(f\"\\nChannel info:\")\n",
    "print(f\"  Channel names: {raw.info['ch_names'][:5]}\")\n",
    "print(f\"  Channel types: {raw.info['chs'][0]['kind']}\")\n",
    "\n",
    "print(\"=\"*50)"
   ]
  },
  {
   "cell_type": "code",
   "execution_count": null,
   "metadata": {},
   "outputs": [],
   "source": []
  }
 ],
 "metadata": {
  "kernelspec": {
   "display_name": "Python 3",
   "language": "python",
   "name": "python3"
  },
  "language_info": {
   "codemirror_mode": {
    "name": "ipython",
    "version": 3
   },
   "file_extension": ".py",
   "mimetype": "text/x-python",
   "name": "python",
   "nbconvert_exporter": "python",
   "pygments_lexer": "ipython3",
   "version": "3.10.8"
  }
 },
 "nbformat": 4,
 "nbformat_minor": 2
}
